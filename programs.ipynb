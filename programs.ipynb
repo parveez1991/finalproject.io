{
 "cells": [
  {
   "cell_type": "code",
   "execution_count": 1,
   "id": "bdb834ba",
   "metadata": {},
   "outputs": [],
   "source": [
    "# Q1. Write a program to find all pairs of an integer array whose sum is equal to a given number?\n"
   ]
  },
  {
   "cell_type": "code",
   "execution_count": 2,
   "id": "c2d31cbe",
   "metadata": {},
   "outputs": [],
   "source": [
    "def printPairs(arr, n, sum):\n",
    " \n",
    "    for i in range(0, n ):\n",
    "        for j in range(i + 1, n ):\n",
    "            if (arr[i] + arr[j] == sum):\n",
    "                print(\"(\", arr[i],\n",
    "                      \", \", arr[j],\n",
    "                      \")\", sep = \"\")"
   ]
  },
  {
   "cell_type": "code",
   "execution_count": 3,
   "id": "b234d028",
   "metadata": {},
   "outputs": [
    {
     "name": "stdout",
     "output_type": "stream",
     "text": [
      "(1, 5)\n",
      "(1, 5)\n",
      "(7, -1)\n"
     ]
    }
   ],
   "source": [
    "arr = [1, 5, 7, -1, 5]\n",
    "n = len(arr)\n",
    "sum = 6\n",
    "printPairs(arr, n, sum)"
   ]
  },
  {
   "cell_type": "code",
   "execution_count": 4,
   "id": "34c41294",
   "metadata": {},
   "outputs": [],
   "source": [
    "#Q2. Write a program to reverse an array in place? In place means you cannot create a new array. You have to update the original array."
   ]
  },
  {
   "cell_type": "code",
   "execution_count": 5,
   "id": "ea3c1ca2",
   "metadata": {},
   "outputs": [],
   "source": [
    "def reverseList(A, start, end):\n",
    "    while start < end:\n",
    "        A[start], A[end] = A[end], A[start]\n",
    "        start += 1\n",
    "        end -= 1"
   ]
  },
  {
   "cell_type": "code",
   "execution_count": 6,
   "id": "24b0e1c1",
   "metadata": {},
   "outputs": [
    {
     "name": "stdout",
     "output_type": "stream",
     "text": [
      "[1, 2, 3, 4, 5, 6]\n",
      "Reversed list is\n",
      "[6, 5, 4, 3, 2, 1]\n"
     ]
    }
   ],
   "source": [
    "A = [1, 2, 3, 4, 5, 6]\n",
    "print(A)\n",
    "reverseList(A, 0, 5)\n",
    "print(\"Reversed list is\")\n",
    "print(A)"
   ]
  },
  {
   "cell_type": "code",
   "execution_count": 7,
   "id": "6aaaf70a",
   "metadata": {},
   "outputs": [],
   "source": [
    "#Q3. Write a program to check if two strings are a rotation of each other?"
   ]
  },
  {
   "cell_type": "code",
   "execution_count": 8,
   "id": "37ebd56c",
   "metadata": {},
   "outputs": [],
   "source": [
    "def areRotations(string1, string2):\n",
    "    size1 = len(string1)\n",
    "    size2 = len(string2)\n",
    "    temp = ''\n",
    " \n",
    "    if size1 != size2:\n",
    "        return 0\n",
    " \n",
    "    temp = string1 + string1\n",
    " \n",
    "\n",
    "    if (temp.count(string2)> 0):\n",
    "        return 1\n",
    "    else:\n",
    "        return 0"
   ]
  },
  {
   "cell_type": "code",
   "execution_count": 12,
   "id": "a6d5bece",
   "metadata": {},
   "outputs": [
    {
     "ename": "SyntaxError",
     "evalue": "Missing parentheses in call to 'print'. Did you mean print(\"string are rotations of each other\")? (Temp/ipykernel_14232/302023966.py, line 5)",
     "output_type": "error",
     "traceback": [
      "\u001b[1;36m  File \u001b[1;32m\"C:\\Users\\parve\\AppData\\Local\\Temp/ipykernel_14232/302023966.py\"\u001b[1;36m, line \u001b[1;32m5\u001b[0m\n\u001b[1;33m    print \"string are rotations of each other\"\u001b[0m\n\u001b[1;37m          ^\u001b[0m\n\u001b[1;31mSyntaxError\u001b[0m\u001b[1;31m:\u001b[0m Missing parentheses in call to 'print'. Did you mean print(\"string are rotations of each other\")?\n"
     ]
    }
   ],
   "source": [
    "string1 = \"AACD\"\n",
    "string2 = \"ACDA\"\n",
    " \n",
    "if areRotations(string1, string2):\n",
    "    \n",
    "    print \"string are rotations of each other\"\n",
    "else:\n",
    "    print \"string are not rotations of each other\""
   ]
  },
  {
   "cell_type": "code",
   "execution_count": 19,
   "id": "36f8c635",
   "metadata": {},
   "outputs": [
    {
     "name": "stdout",
     "output_type": "stream",
     "text": [
      "Strings are rotations of each other\n"
     ]
    }
   ],
   "source": [
    "def areRotations(string1, string2):\n",
    "    size1 = len(string1)\n",
    "    size2 = len(string2)\n",
    "    temp = ''\n",
    " \n",
    "    if size1 != size2:\n",
    "        return 0\n",
    " \n",
    "    temp = string1 + string1\n",
    " \n",
    "\n",
    "    if (temp.count(string2)> 0):\n",
    "        return 1\n",
    "    else:\n",
    "        return 0\n",
    "    \n",
    "string1 = \"AACD\"\n",
    "string2 = \"ACDA\"\n",
    " \n",
    "if areRotations(string1, string2):\n",
    "    \n",
    "    print (\"Strings are rotations of each other\")\n",
    "else:\n",
    "    print (\"Strings are not rotations of each other\")"
   ]
  },
  {
   "cell_type": "code",
   "execution_count": 20,
   "id": "b084338c",
   "metadata": {},
   "outputs": [],
   "source": [
    "#Q4. Write a program to print the first non-repeated character from a string?"
   ]
  },
  {
   "cell_type": "code",
   "execution_count": 24,
   "id": "f78126a9",
   "metadata": {},
   "outputs": [
    {
     "name": "stdout",
     "output_type": "stream",
     "text": [
      "First non-repeating character is f\n"
     ]
    }
   ],
   "source": [
    "NO_OF_CHARS = 256\n",
    "\n",
    "def getCharCountArray(string):\n",
    "    count = [0] * NO_OF_CHARS\n",
    "    for i in string:\n",
    "        count[ord(i)]+= 1\n",
    "    return count\n",
    " \n",
    "def firstNonRepeating(string):\n",
    "    count = getCharCountArray(string)\n",
    "    index = -1\n",
    "    k = 0\n",
    " \n",
    "    for i in string:\n",
    "        if count[ord(i)] == 1:\n",
    "            index = k\n",
    "            break\n",
    "        k += 1\n",
    " \n",
    "    return index\n",
    " \n",
    "string = (\"geeksforgeeks\")\n",
    "index = firstNonRepeating(string)\n",
    "if index == 1:\n",
    "    print (\"Either all characters are repeating or string is empty\")\n",
    "else:\n",
    "    print (\"First non-repeating character is \" + string[index])"
   ]
  },
  {
   "cell_type": "code",
   "execution_count": 25,
   "id": "c9b93156",
   "metadata": {},
   "outputs": [],
   "source": [
    "# Q5. Read about the Tower of Hanoi algorithm. Write a program to implement it."
   ]
  },
  {
   "cell_type": "code",
   "execution_count": 26,
   "id": "05dfd72d",
   "metadata": {},
   "outputs": [
    {
     "name": "stdout",
     "output_type": "stream",
     "text": [
      "Move disk 1 from rod A to rod B\n",
      "Move disk 2 from rod A to rod C\n",
      "Move disk 1 from rod B to rod C\n",
      "Move disk 3 from rod A to rod B\n",
      "Move disk 1 from rod C to rod A\n",
      "Move disk 2 from rod C to rod B\n",
      "Move disk 1 from rod A to rod B\n",
      "Move disk 4 from rod A to rod C\n",
      "Move disk 1 from rod B to rod C\n",
      "Move disk 2 from rod B to rod A\n",
      "Move disk 1 from rod C to rod A\n",
      "Move disk 3 from rod B to rod C\n",
      "Move disk 1 from rod A to rod B\n",
      "Move disk 2 from rod A to rod C\n",
      "Move disk 1 from rod B to rod C\n"
     ]
    }
   ],
   "source": [
    "def TowerOfHanoi(n , from_rod, to_rod, aux_rod):\n",
    "    if n == 1:\n",
    "        print(\"Move disk 1 from rod\",from_rod,\"to rod\",to_rod)\n",
    "        return\n",
    "    TowerOfHanoi(n-1, from_rod, aux_rod, to_rod)\n",
    "    print(\"Move disk\",n,\"from rod\",from_rod,\"to rod\",to_rod)\n",
    "    TowerOfHanoi(n-1, aux_rod, to_rod, from_rod)\n",
    "         \n",
    "n = 4\n",
    "TowerOfHanoi(n, 'A', 'C', 'B')"
   ]
  },
  {
   "cell_type": "code",
   "execution_count": 27,
   "id": "28e205cd",
   "metadata": {},
   "outputs": [],
   "source": [
    "#Q6. Read about infix, prefix, and postfix expressions. Write a program to convert postfix to prefix expression."
   ]
  },
  {
   "cell_type": "code",
   "execution_count": 28,
   "id": "9fe11522",
   "metadata": {},
   "outputs": [
    {
     "name": "stdout",
     "output_type": "stream",
     "text": [
      "Prefix :  +AB-CD\n"
     ]
    }
   ],
   "source": [
    "def isOperator(x):\n",
    "\n",
    "\tif x == \"+\":\n",
    "\t\treturn True\n",
    "\n",
    "\tif x == \"-\":\n",
    "\t\treturn True\n",
    "\n",
    "\tif x == \"/\":\n",
    "\t\treturn True\n",
    "\n",
    "\tif x == \"*\":\n",
    "\t\treturn True\n",
    "\n",
    "\treturn False\n",
    "\n",
    "# Convert postfix to Prefix expression\n",
    "\n",
    "\n",
    "def postToPre(post_exp):\n",
    "\n",
    "\ts = []\n",
    "\n",
    "\t# length of expression\n",
    "\tlength = len(post_exp)\n",
    "\n",
    "\t# reading from right to left\n",
    "\tfor i in range(length):\n",
    "\n",
    "\t\t# check if symbol is operator\n",
    "\t\tif (isOperator(post_exp[i])):\n",
    "\n",
    "\t\t\t# pop two operands from stack\n",
    "\t\t\top1 = s[-1]\n",
    "\t\t\ts.pop()\n",
    "\t\t\top2 = s[-1]\n",
    "\t\t\ts.pop()\n",
    "\n",
    "\t\t\t# concat the operands and operator\n",
    "\t\t\ttemp = post_exp[i] + op2 + op1\n",
    "\n",
    "\t\t\t# Push string temp back to stack\n",
    "\t\t\ts.append(temp)\n",
    "\n",
    "\t\t# if symbol is an operand\n",
    "\t\telse:\n",
    "\n",
    "\t\t\t# push the operand to the stack\n",
    "\t\t\ts.append(post_exp[i])\n",
    "\n",
    "\t\n",
    "\tans = \"\"\n",
    "\tfor i in s:\n",
    "\t\tans += i\n",
    "\treturn ans\n",
    "\n",
    "\n",
    "# Driver Code\n",
    "if __name__ == \"__main__\":\n",
    "\n",
    "\tpost_exp = \"AB+CD-\"\n",
    "\t\n",
    "\t# Function call\n",
    "\tprint(\"Prefix : \", postToPre(post_exp))"
   ]
  },
  {
   "cell_type": "code",
   "execution_count": 29,
   "id": "358c2d80",
   "metadata": {},
   "outputs": [],
   "source": [
    "# Q7. Write a program to convert prefix expression to infix expression."
   ]
  },
  {
   "cell_type": "code",
   "execution_count": 30,
   "id": "afe0f9cc",
   "metadata": {},
   "outputs": [
    {
     "name": "stdout",
     "output_type": "stream",
     "text": [
      "((A-(B/C))*((A/K)-L))\n"
     ]
    }
   ],
   "source": [
    "def prefixToInfix(prefix):\n",
    "\tstack = []\n",
    "\t\n",
    "\t# read prefix in reverse order\n",
    "\ti = len(prefix) - 1\n",
    "\twhile i >= 0:\n",
    "\t\tif not isOperator(prefix[i]):\n",
    "\t\t\t\n",
    "\t\t\t# symbol is operand\n",
    "\t\t\tstack.append(prefix[i])\n",
    "\t\t\ti -= 1\n",
    "\t\telse:\n",
    "\t\t\n",
    "\t\t\t# symbol is operator\n",
    "\t\t\tstr = \"(\" + stack.pop() + prefix[i] + stack.pop() + \")\"\n",
    "\t\t\tstack.append(str)\n",
    "\t\t\ti -= 1\n",
    "\t\n",
    "\treturn stack.pop()\n",
    "\n",
    "def isOperator(c):\n",
    "\tif c == \"*\" or c == \"+\" or c == \"-\" or c == \"/\" or c == \"^\" or c == \"(\" or c == \")\":\n",
    "\t\treturn True\n",
    "\telse:\n",
    "\t\treturn False\n",
    "\n",
    "# Driver code\n",
    "if __name__==\"__main__\":\n",
    "\tstr = \"*-A/BC-/AKL\"\n",
    "\tprint(prefixToInfix(str))"
   ]
  },
  {
   "cell_type": "code",
   "execution_count": 31,
   "id": "3d601707",
   "metadata": {},
   "outputs": [],
   "source": [
    "#Q8. Write a program to check if all the brackets are closed in a given code snippet."
   ]
  },
  {
   "cell_type": "code",
   "execution_count": 32,
   "id": "9a5c2e96",
   "metadata": {},
   "outputs": [
    {
     "name": "stdout",
     "output_type": "stream",
     "text": [
      "Balanced\n"
     ]
    }
   ],
   "source": [
    "def areBracketsBalanced(expr):\n",
    "\tstack = []\n",
    "\n",
    "\t# Traversing the Expression\n",
    "\tfor char in expr:\n",
    "\t\tif char in [\"(\", \"{\", \"[\"]:\n",
    "\n",
    "\t\t\t# Push the element in the stack\n",
    "\t\t\tstack.append(char)\n",
    "\t\telse:\n",
    "\n",
    "\t\t\t# IF current character is not opening\n",
    "\t\t\t# bracket, then it must be closing.\n",
    "\t\t\t# So stack cannot be empty at this point.\n",
    "\t\t\tif not stack:\n",
    "\t\t\t\treturn False\n",
    "\t\t\tcurrent_char = stack.pop()\n",
    "\t\t\tif current_char == '(':\n",
    "\t\t\t\tif char != \")\":\n",
    "\t\t\t\t\treturn False\n",
    "\t\t\tif current_char == '{':\n",
    "\t\t\t\tif char != \"}\":\n",
    "\t\t\t\t\treturn False\n",
    "\t\t\tif current_char == '[':\n",
    "\t\t\t\tif char != \"]\":\n",
    "\t\t\t\t\treturn False\n",
    "\n",
    "\t# Check Empty Stack\n",
    "\tif stack:\n",
    "\t\treturn False\n",
    "\treturn True\n",
    "\n",
    "\n",
    "# Driver Code\n",
    "if __name__ == \"__main__\":\n",
    "\texpr = \"{()}[]\"\n",
    "\n",
    "\t# Function call\n",
    "\tif areBracketsBalanced(expr):\n",
    "\t\tprint(\"Balanced\")\n",
    "\telse:\n",
    "\t\tprint(\"Not Balanced\")"
   ]
  },
  {
   "cell_type": "code",
   "execution_count": 33,
   "id": "b804b0b0",
   "metadata": {},
   "outputs": [],
   "source": [
    "#Q9. Write a program to reverse a stack."
   ]
  },
  {
   "cell_type": "code",
   "execution_count": 41,
   "id": "f74f8ac3",
   "metadata": {},
   "outputs": [
    {
     "name": "stdout",
     "output_type": "stream",
     "text": [
      "Reversed string is ziuQskeeG\n"
     ]
    }
   ],
   "source": [
    "\n",
    "def createStack():\n",
    "    stack=[]\n",
    "    return stack\n",
    " \n",
    "# Function to determine the size of the stack\n",
    "def size(stack):\n",
    "    return len(stack)\n",
    " \n",
    "# Stack is empty if the size is 0\n",
    "def isEmpty(stack):\n",
    "    if size(stack) == 0:\n",
    "        return true\n",
    " \n",
    "def push(stack,item):\n",
    "    stack.append(item)\n",
    " \n",
    "def pop(stack):\n",
    "    if isEmpty(stack): return\n",
    "    return stack.pop()\n",
    " \n",
    "# A stack based function to reverse a string\n",
    "def reverse(string):\n",
    "    n = len(string)\n",
    "     \n",
    "    # Create a empty stack\n",
    "    stack = createStack()\n",
    " \n",
    "    # Push all characters of string to stack\n",
    "    for i in range(0,n,1):\n",
    "        push(stack,string[i])\n",
    " \n",
    "    # Making the string empty since all\n",
    "    #characters are saved in stack\n",
    "    string=\"\"\n",
    " \n",
    "    # Pop all characters of string and\n",
    "    # put them back to string\n",
    "    for i in range(0,n,1):\n",
    "        string+=pop(stack)\n",
    "         \n",
    "    return string\n",
    "     \n",
    "# Driver program to test above functions\n",
    "string=\"GeeksQuiz\"\n",
    "string = reverse(string)\n",
    "print(\"Reversed string is \" + string)"
   ]
  },
  {
   "cell_type": "code",
   "execution_count": 42,
   "id": "7792d5c8",
   "metadata": {},
   "outputs": [],
   "source": [
    "# Q10. Write a program to find the smallest number using a stack."
   ]
  },
  {
   "cell_type": "code",
   "execution_count": 43,
   "id": "8f96e00b",
   "metadata": {},
   "outputs": [
    {
     "name": "stdout",
     "output_type": "stream",
     "text": [
      "-3\n",
      "0\n",
      "-2\n"
     ]
    }
   ],
   "source": [
    "class MinStack(object):\n",
    "   min=float('inf')\n",
    "   def __init__(self):\n",
    "      self.min=float('inf')\n",
    "      self.stack = []\n",
    "   def push(self, x):\n",
    "      if x<=self.min:\n",
    "         self.stack.append(self.min)\n",
    "         self.min = x\n",
    "      self.stack.append(x)\n",
    "   def pop(self):\n",
    "      t = self.stack[-1]\n",
    "      self.stack.pop()\n",
    "      if self.min == t:\n",
    "         self.min = self.stack[-1]\n",
    "         self.stack.pop()\n",
    "   def top(self):\n",
    "      return self.stack[-1]\n",
    "   def getMin(self):\n",
    "      return self.min\n",
    "m = MinStack()\n",
    "m.push(-2)\n",
    "m.push(0)\n",
    "m.push(-3)\n",
    "print(m.getMin())\n",
    "m.pop()\n",
    "print(m.top())\n",
    "print(m.getMin())"
   ]
  },
  {
   "cell_type": "code",
   "execution_count": null,
   "id": "1133d62d",
   "metadata": {},
   "outputs": [],
   "source": []
  }
 ],
 "metadata": {
  "kernelspec": {
   "display_name": "Python 3 (ipykernel)",
   "language": "python",
   "name": "python3"
  },
  "language_info": {
   "codemirror_mode": {
    "name": "ipython",
    "version": 3
   },
   "file_extension": ".py",
   "mimetype": "text/x-python",
   "name": "python",
   "nbconvert_exporter": "python",
   "pygments_lexer": "ipython3",
   "version": "3.9.7"
  }
 },
 "nbformat": 4,
 "nbformat_minor": 5
}
